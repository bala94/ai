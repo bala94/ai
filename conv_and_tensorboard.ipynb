{
 "cells": [
  {
   "cell_type": "markdown",
   "metadata": {},
   "source": [
    "### MNIST  \n",
    "\n",
    "convolution => pooling ==> convolution => pooling => fully-connected => fully-connected\n"
   ]
  },
  {
   "cell_type": "code",
   "execution_count": 4,
   "metadata": {
    "collapsed": true
   },
   "outputs": [],
   "source": [
    "import tensorflow as tf"
   ]
  },
  {
   "cell_type": "code",
   "execution_count": 10,
   "metadata": {
    "collapsed": true
   },
   "outputs": [],
   "source": [
    "#Layer Definition\n",
    "\n",
    "def conv_layer(input,channels_in,channels_out):\n",
    "    w = tf.Variable(tf.zeros([5,5,channels_in,channels_out]))\n",
    "    b = tf.Variable(tf.zeros([channels_out]))\n",
    "    conv = tf.nn.conv2d(input,w,strides=[1,1,1,1], padding=\"SAME\")\n",
    "    act = tf.nn.relu(conv+b)\n",
    "    return act\n",
    "    "
   ]
  },
  {
   "cell_type": "code",
   "execution_count": 7,
   "metadata": {
    "collapsed": true
   },
   "outputs": [],
   "source": [
    "def fc_layer(input,channels_in,channels_out):\n",
    "    w = tf.Variable(tf.zeros([channels_in,channels_out]))\n",
    "    b = tf.Variable(tf.zeros([channels_out]))\n",
    "    act = tf.nn.relu(tf.matmul(input,w) + b)\n",
    "    return act"
   ]
  },
  {
   "cell_type": "code",
   "execution_count": 5,
   "metadata": {
    "collapsed": false
   },
   "outputs": [],
   "source": [
    "#Feed-forward setup\n",
    "#Setup placeholders and reshape the data\n",
    "x = tf.placeholder(tf.float32,shape=[None,784])\n",
    "y = tf.placeholder(tf.float32,shape=[None,10])\n",
    "x_image = tf.reshape(x,[-1,28,28,1])"
   ]
  },
  {
   "cell_type": "code",
   "execution_count": 12,
   "metadata": {
    "collapsed": false
   },
   "outputs": [],
   "source": [
    "#Create the network\n",
    "\n",
    "conv1 = conv_layer(x_image,1,32)\n",
    "pool1 = tf.nn.max_pool(conv1,ksize=[1,2,2,1], strides=[1,2,2,1], padding=\"SAME\")\n",
    "\n",
    "\n",
    "conv2 = conv_layer(pool1,32,64)\n",
    "pool2 = tf.nn.max_pool(conv2,ksize=[1,2,2,1],strides=[1,2,2,1], padding=\"SAME\")\n",
    "flattened = tf.reshape(pool2,[-1,7*7*64])"
   ]
  },
  {
   "cell_type": "code",
   "execution_count": null,
   "metadata": {
    "collapsed": true
   },
   "outputs": [],
   "source": [
    "#Loss & Training"
   ]
  }
 ],
 "metadata": {
  "kernelspec": {
   "display_name": "Python 3",
   "language": "python",
   "name": "python3"
  },
  "language_info": {
   "codemirror_mode": {
    "name": "ipython",
    "version": 3
   },
   "file_extension": ".py",
   "mimetype": "text/x-python",
   "name": "python",
   "nbconvert_exporter": "python",
   "pygments_lexer": "ipython3",
   "version": "3.6.0"
  }
 },
 "nbformat": 4,
 "nbformat_minor": 2
}
